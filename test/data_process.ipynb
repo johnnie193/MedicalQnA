{
 "cells": [
  {
   "cell_type": "code",
   "execution_count": 1,
   "id": "652b13ab-c256-480a-a10b-3e3964a1bb41",
   "metadata": {
    "tags": []
   },
   "outputs": [],
   "source": [
    "import csv\n",
    "import json\n",
    "\n",
    "# 打开 JSON 文件读取数据\n",
    "with open('dataset/test_datasets.jsonl', 'r', encoding='utf-8') as json_file:\n",
    "    lines = json_file.readlines()\n",
    "\n",
    "# 创建 CSV 文件并设置表头\n",
    "with open('dataset/output.csv', 'w', newline='', encoding='utf-8') as csv_file:\n",
    "    writer = csv.DictWriter(csv_file, fieldnames=['questions', 'answers'])\n",
    "    writer.writeheader()\n",
    "\n",
    "    # 遍历每一行 JSON 数据并写入 CSV 文件\n",
    "    for line in lines:\n",
    "        data = json.loads(line.strip())\n",
    "        writer.writerow({'questions': data['questions'], 'answers': data['answers']})\n"
   ]
  },
  {
   "cell_type": "code",
   "execution_count": 2,
   "id": "f33918f0-f8db-4c2e-812f-9e30401edc21",
   "metadata": {
    "tags": []
   },
   "outputs": [
    {
     "data": {
      "text/plain": [
       "<csv.DictWriter at 0xffffa1a7f130>"
      ]
     },
     "execution_count": 2,
     "metadata": {},
     "output_type": "execute_result"
    }
   ],
   "source": [
    "writer"
   ]
  },
  {
   "cell_type": "code",
   "execution_count": null,
   "id": "1ae15817-f375-429f-9395-9d5009480370",
   "metadata": {},
   "outputs": [],
   "source": []
  }
 ],
 "metadata": {
  "kernelspec": {
   "display_name": "Python 3 (ipykernel)",
   "language": "python",
   "name": "python3"
  },
  "language_info": {
   "codemirror_mode": {
    "name": "ipython",
    "version": 3
   },
   "file_extension": ".py",
   "mimetype": "text/x-python",
   "name": "python",
   "nbconvert_exporter": "python",
   "pygments_lexer": "ipython3",
   "version": "3.9.19"
  }
 },
 "nbformat": 4,
 "nbformat_minor": 5
}
